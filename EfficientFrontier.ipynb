{
 "cells": [
  {
   "cell_type": "code",
   "execution_count": 14,
   "metadata": {},
   "outputs": [],
   "source": [
    "import pandas as pd\n",
    "import yfinance as yf\n",
    "import seaborn as sns"
   ]
  },
  {
   "cell_type": "code",
   "execution_count": 15,
   "metadata": {},
   "outputs": [],
   "source": [
    "# function to fetch data from yahoo finance for 1 year\n",
    "def FetchData(Tickers,Period=\"max\",Interval='1d',Start=None,End=None):\n",
    "\n",
    "    \"\"\"\n",
    "    Parameters:\n",
    "        tickers : str, list             List of tickers to download\n",
    "        period : str             Valid periods: 1d,5d,1mo,3mo,6mo,1y,2y,5y,10y,ytd,max Either Use period parameter or use start and end\n",
    "        interval : str             Valid intervals: 1m,2m,5m,15m,30m,60m,90m,1h,1d,5d,1wk,1mo,3mo Intraday data cannot extend last 60 days\n",
    "        start: str             Download start date string (YYYY-MM-DD) or _datetime. Default is 1900-01-01\n",
    "        end: str             Download end date string (YYYY-MM-DD) or _datetime. Default is now\n",
    "        group_by : str             Group by 'ticker' or 'column' (default)\n",
    "    \"\"\"\n",
    "    Data_Selected = yf.download(Tickers,start=Start,end=End,period=Period,interval=Interval)\n",
    "    return(Data_Selected)\n",
    "\n"
   ]
  },
  {
   "cell_type": "code",
   "execution_count": 16,
   "metadata": {},
   "outputs": [
    {
     "name": "stdout",
     "output_type": "stream",
     "text": [
      "[*********************100%***********************]  1 of 1 completed\n"
     ]
    }
   ],
   "source": [
    "a=FetchData('T',Period='1y')"
   ]
  }
 ],
 "metadata": {
  "interpreter": {
   "hash": "ff672b30b76bb926ad17dbbe6fd729cfe869f08af23f2f47325670064901a6a3"
  },
  "kernelspec": {
   "display_name": "Python 3.10.2 ('eda1')",
   "language": "python",
   "name": "python3"
  },
  "language_info": {
   "codemirror_mode": {
    "name": "ipython",
    "version": 3
   },
   "file_extension": ".py",
   "mimetype": "text/x-python",
   "name": "python",
   "nbconvert_exporter": "python",
   "pygments_lexer": "ipython3",
   "version": "3.10.2"
  },
  "orig_nbformat": 4
 },
 "nbformat": 4,
 "nbformat_minor": 2
}
